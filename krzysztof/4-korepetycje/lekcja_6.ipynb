{
 "cells": [
  {
   "cell_type": "code",
   "execution_count": 1,
   "id": "initial_id",
   "metadata": {
    "collapsed": true,
    "ExecuteTime": {
     "end_time": "2024-03-20T16:22:07.098394700Z",
     "start_time": "2024-03-20T16:22:07.072911600Z"
    }
   },
   "outputs": [],
   "source": [
    "liczby = [1, 2, 3, 4, 5, 6, 7, 8, 9, 10]"
   ]
  },
  {
   "cell_type": "code",
   "execution_count": 2,
   "outputs": [
    {
     "name": "stdout",
     "output_type": "stream",
     "text": [
      "5\n",
      "6\n",
      "7\n",
      "8\n",
      "9\n",
      "10\n"
     ]
    }
   ],
   "source": [
    "for liczba in liczby:\n",
    "    if liczba > 4:\n",
    "        print(liczba)"
   ],
   "metadata": {
    "collapsed": false,
    "ExecuteTime": {
     "end_time": "2024-03-20T16:22:07.100388800Z",
     "start_time": "2024-03-20T16:22:07.081194Z"
    }
   },
   "id": "e3b5e1363b13d8ba"
  },
  {
   "cell_type": "code",
   "execution_count": 3,
   "outputs": [],
   "source": [
    "slowa = ['pies', 'kot', 'krowa', 'kura', 'kaczka', 'słoń', 'żyrafa', 'lew', 'tygrys', 'papuga']"
   ],
   "metadata": {
    "collapsed": false,
    "ExecuteTime": {
     "end_time": "2024-03-20T16:26:04.955636800Z",
     "start_time": "2024-03-20T16:26:04.925107800Z"
    }
   },
   "id": "efa135abb34d05ce"
  },
  {
   "cell_type": "code",
   "execution_count": 4,
   "outputs": [
    {
     "name": "stdout",
     "output_type": "stream",
     "text": [
      "krowa\n",
      "kaczka\n",
      "żyrafa\n",
      "tygrys\n",
      "papuga\n"
     ]
    }
   ],
   "source": [
    "for slowo in slowa:\n",
    "    if len(slowo) > 4:\n",
    "        print(slowo)"
   ],
   "metadata": {
    "collapsed": false,
    "ExecuteTime": {
     "end_time": "2024-03-20T16:26:05.640522100Z",
     "start_time": "2024-03-20T16:26:05.630875400Z"
    }
   },
   "id": "c9142c821cb4ffc2"
  },
  {
   "cell_type": "code",
   "execution_count": 8,
   "outputs": [
    {
     "name": "stdout",
     "output_type": "stream",
     "text": [
      "1\n",
      "4\n",
      "9\n",
      "16\n",
      "25\n",
      "36\n",
      "49\n",
      "64\n",
      "81\n",
      "100\n"
     ]
    }
   ],
   "source": [
    "for liczba in liczby:\n",
    "    print(liczba**2)"
   ],
   "metadata": {
    "collapsed": false,
    "ExecuteTime": {
     "end_time": "2024-03-20T16:30:17.656954500Z",
     "start_time": "2024-03-20T16:30:17.641800Z"
    }
   },
   "id": "2a7db13bac20f5e0"
  },
  {
   "cell_type": "code",
   "execution_count": 15,
   "outputs": [
    {
     "name": "stdout",
     "output_type": "stream",
     "text": [
      "pies\n",
      "krowa\n",
      "kura\n",
      "słoń\n"
     ]
    }
   ],
   "source": [
    " for slowo in slowa:\n",
    "    if len(slowo) == 4 or len(slowo) == 5:\n",
    "        print(slowo)"
   ],
   "metadata": {
    "collapsed": false,
    "ExecuteTime": {
     "end_time": "2024-03-20T16:33:19.265811200Z",
     "start_time": "2024-03-20T16:33:19.252055200Z"
    }
   },
   "id": "29c5ad394268eb0e"
  },
  {
   "cell_type": "code",
   "execution_count": 18,
   "outputs": [
    {
     "name": "stdout",
     "output_type": "stream",
     "text": [
      "2\n",
      "4\n",
      "6\n",
      "8\n",
      "10\n"
     ]
    }
   ],
   "source": [
    "for liczba in liczby:\n",
    "    if liczba % 2 == 0:\n",
    "        print(liczba)"
   ],
   "metadata": {
    "collapsed": false,
    "ExecuteTime": {
     "end_time": "2024-03-20T16:40:38.092520100Z",
     "start_time": "2024-03-20T16:40:38.088685100Z"
    }
   },
   "id": "b85cf1eff28a96a8"
  },
  {
   "cell_type": "code",
   "execution_count": 20,
   "outputs": [
    {
     "name": "stdout",
     "output_type": "stream",
     "text": [
      "5\n"
     ]
    }
   ],
   "source": [
    "liczba_k =  0\n",
    "for slowo in slowa:\n",
    "    for litera in slowo:\n",
    "        if litera == \"k\":\n",
    "            liczba_k += 1\n",
    "print(liczba_k)\n",
    "        "
   ],
   "metadata": {
    "collapsed": false,
    "ExecuteTime": {
     "end_time": "2024-03-20T16:54:54.216078100Z",
     "start_time": "2024-03-20T16:54:54.205698700Z"
    }
   },
   "id": "e8cfa411c91d2693"
  }
 ],
 "metadata": {
  "kernelspec": {
   "display_name": "Python 3",
   "language": "python",
   "name": "python3"
  },
  "language_info": {
   "codemirror_mode": {
    "name": "ipython",
    "version": 2
   },
   "file_extension": ".py",
   "mimetype": "text/x-python",
   "name": "python",
   "nbconvert_exporter": "python",
   "pygments_lexer": "ipython2",
   "version": "2.7.6"
  }
 },
 "nbformat": 4,
 "nbformat_minor": 5
}
